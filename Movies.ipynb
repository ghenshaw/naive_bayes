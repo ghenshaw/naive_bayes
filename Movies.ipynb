{
 "cells": [
  {
   "cell_type": "markdown",
   "metadata": {},
   "source": [
    "# Niave Bayes for Movie Reviews\n",
    "* Make sure you have the file movie.csv in the same directory as this ipython notebook file"
   ]
  },
  {
   "cell_type": "code",
   "execution_count": 42,
   "metadata": {
    "collapsed": true
   },
   "outputs": [],
   "source": [
    "import pandas as pd #To prepare the data\n",
    "import numpy as np #For the log function"
   ]
  },
  {
   "cell_type": "markdown",
   "metadata": {},
   "source": [
    "### loading the data"
   ]
  },
  {
   "cell_type": "code",
   "execution_count": 43,
   "metadata": {},
   "outputs": [
    {
     "name": "stdout",
     "output_type": "stream",
     "text": [
      "There are 2000 rows in the data set\n"
     ]
    },
    {
     "data": {
      "text/html": [
       "<div>\n",
       "<style>\n",
       "    .dataframe thead tr:only-child th {\n",
       "        text-align: right;\n",
       "    }\n",
       "\n",
       "    .dataframe thead th {\n",
       "        text-align: left;\n",
       "    }\n",
       "\n",
       "    .dataframe tbody tr th {\n",
       "        vertical-align: top;\n",
       "    }\n",
       "</style>\n",
       "<table border=\"1\" class=\"dataframe\">\n",
       "  <thead>\n",
       "    <tr style=\"text-align: right;\">\n",
       "      <th></th>\n",
       "      <th>class</th>\n",
       "      <th>text</th>\n",
       "    </tr>\n",
       "  </thead>\n",
       "  <tbody>\n",
       "    <tr>\n",
       "      <th>0</th>\n",
       "      <td>Pos</td>\n",
       "      <td>films adapted from comic books have had plenty...</td>\n",
       "    </tr>\n",
       "    <tr>\n",
       "      <th>1</th>\n",
       "      <td>Pos</td>\n",
       "      <td>every now and then a movie comes along from a ...</td>\n",
       "    </tr>\n",
       "    <tr>\n",
       "      <th>2</th>\n",
       "      <td>Pos</td>\n",
       "      <td>you ve got mail works alot better than it dese...</td>\n",
       "    </tr>\n",
       "    <tr>\n",
       "      <th>3</th>\n",
       "      <td>Pos</td>\n",
       "      <td>jaws   is a rare film that grabs your attentio...</td>\n",
       "    </tr>\n",
       "    <tr>\n",
       "      <th>4</th>\n",
       "      <td>Pos</td>\n",
       "      <td>moviemaking is a lot like being the general ma...</td>\n",
       "    </tr>\n",
       "  </tbody>\n",
       "</table>\n",
       "</div>"
      ],
      "text/plain": [
       "  class                                               text\n",
       "0   Pos  films adapted from comic books have had plenty...\n",
       "1   Pos  every now and then a movie comes along from a ...\n",
       "2   Pos  you ve got mail works alot better than it dese...\n",
       "3   Pos  jaws   is a rare film that grabs your attentio...\n",
       "4   Pos  moviemaking is a lot like being the general ma..."
      ]
     },
     "execution_count": 43,
     "metadata": {},
     "output_type": "execute_result"
    }
   ],
   "source": [
    "#import the data using pandas\n",
    "movie_data = pd.read_csv('movie.csv')\n",
    "print(\"There are {} rows in the data set\".format(len(movie_data)))\n",
    "movie_data.head()"
   ]
  },
  {
   "cell_type": "markdown",
   "metadata": {
    "collapsed": true
   },
   "source": [
    "### Divide the data into training and testing data"
   ]
  },
  {
   "cell_type": "code",
   "execution_count": 46,
   "metadata": {
    "collapsed": true
   },
   "outputs": [],
   "source": [
    "#First randomly select 20% of the data (400 rows)\n",
    "movie_sample = movie_data.sample(400)\n",
    "#The training data and the testing data MUST be seperated \n",
    "training_frame = movie_data[~movie_data.index.isin(movie_sample.index)]\n",
    "testing_frame = movie_sample"
   ]
  },
  {
   "cell_type": "markdown",
   "metadata": {},
   "source": [
    "### Define the dictionaries C, D"
   ]
  },
  {
   "cell_type": "code",
   "execution_count": 28,
   "metadata": {},
   "outputs": [],
   "source": [
    "C = set(training_frame['class']) # Neg, Pos\n",
    "D = dict()\n",
    "for i in range(len(training_frame)):\n",
    "    D[training_frame.iloc[i,1]] = training_frame.iloc[i,0]"
   ]
  },
  {
   "cell_type": "markdown",
   "metadata": {},
   "source": [
    "### The Naive Bayes algorithm"
   ]
  },
  {
   "cell_type": "code",
   "execution_count": 30,
   "metadata": {
    "collapsed": true
   },
   "outputs": [],
   "source": [
    "def train_NB(C,D):\n",
    "    V = set([word for doc in D.keys() for word in doc.split()])\n",
    "    N = len(D)\n",
    "    prior = dict()\n",
    "    cond_prob = dict()\n",
    "    N_c = dict()\n",
    "    T = dict()\n",
    "    text_c = dict()\n",
    "    for c in C:\n",
    "        text_c[c] = []\n",
    "        for doc in D.items():\n",
    "            if doc[1] == c:\n",
    "                for word in doc[0].split():\n",
    "                    text_c[c].append(word)\n",
    "        N_c[c] = len([doc for doc in D.items() if doc[1] == c])\n",
    "        prior[c] = float(N_c[c])/N\n",
    "        cond_prob[c] = dict()\n",
    "        T[c] = dict()\n",
    "        for term in V:\n",
    "            T[c][term] = text_c[c].count(term)\n",
    "        for term in V:\n",
    "            cond_prob[c][term] = float(T[c][term] + 1)/(sum(T[c].values()) + len(V))\n",
    " \n",
    "    return V, prior, cond_prob"
   ]
  },
  {
   "cell_type": "code",
   "execution_count": 31,
   "metadata": {
    "collapsed": true
   },
   "outputs": [],
   "source": [
    "def test_NB(C,V,prior,cond_prob,d):\n",
    "    W = []\n",
    "    for word in d.split():\n",
    "        if word in V:\n",
    "            W.append(word)\n",
    "    score = dict()\n",
    "    for c in C:\n",
    "        score[c] = np.log(prior[c])\n",
    "        for term in W:\n",
    "            score[c] += np.log(cond_prob[c][term])\n",
    "    max_category = sorted(score.items(),key=lambda x: x[1],reverse= True)[0][0]\n",
    "    return max_category"
   ]
  },
  {
   "cell_type": "markdown",
   "metadata": {},
   "source": [
    "### Training\n",
    "* on my computer this took about 10 minutes.  "
   ]
  },
  {
   "cell_type": "code",
   "execution_count": 33,
   "metadata": {},
   "outputs": [],
   "source": [
    "V, prior, cond_prob = train_NB(C,D)"
   ]
  },
  {
   "cell_type": "code",
   "execution_count": 12,
   "metadata": {},
   "outputs": [
    {
     "data": {
      "text/plain": [
       "'china'"
      ]
     },
     "execution_count": 12,
     "metadata": {},
     "output_type": "execute_result"
    }
   ],
   "source": [
    "test_NB(C,V,prior,cond_prob,test_doc)"
   ]
  },
  {
   "cell_type": "code",
   "execution_count": 41,
   "metadata": {},
   "outputs": [
    {
     "name": "stdout",
     "output_type": "stream",
     "text": [
      "Accuracy = 0.7975\n"
     ]
    }
   ],
   "source": [
    "correct = 0\n",
    "incorrect = 0\n",
    "for i in range(len(testing_frame)): \n",
    "    if test_NB(C,V,prior,cond_prob,testing_frame.iloc[i,1]) == testing_frame.iloc[i,0]:\n",
    "        correct += 1\n",
    "    else:\n",
    "        incorrect += 1\n",
    "accuracy = correct/(correct + incorrect)\n",
    "print(\"Accuracy = {}\".format(accuracy))"
   ]
  },
  {
   "cell_type": "markdown",
   "metadata": {},
   "source": [
    "# About 80% accuracy"
   ]
  },
  {
   "cell_type": "code",
   "execution_count": null,
   "metadata": {
    "collapsed": true
   },
   "outputs": [],
   "source": []
  },
  {
   "cell_type": "code",
   "execution_count": null,
   "metadata": {
    "collapsed": true
   },
   "outputs": [],
   "source": []
  },
  {
   "cell_type": "code",
   "execution_count": null,
   "metadata": {
    "collapsed": true
   },
   "outputs": [],
   "source": []
  },
  {
   "cell_type": "code",
   "execution_count": null,
   "metadata": {
    "collapsed": true
   },
   "outputs": [],
   "source": []
  },
  {
   "cell_type": "code",
   "execution_count": null,
   "metadata": {
    "collapsed": true
   },
   "outputs": [],
   "source": []
  },
  {
   "cell_type": "code",
   "execution_count": null,
   "metadata": {
    "collapsed": true
   },
   "outputs": [],
   "source": []
  },
  {
   "cell_type": "code",
   "execution_count": null,
   "metadata": {
    "collapsed": true
   },
   "outputs": [],
   "source": []
  },
  {
   "cell_type": "code",
   "execution_count": null,
   "metadata": {
    "collapsed": true
   },
   "outputs": [],
   "source": []
  }
 ],
 "metadata": {
  "kernelspec": {
   "display_name": "Python 3",
   "language": "python",
   "name": "python3"
  },
  "language_info": {
   "codemirror_mode": {
    "name": "ipython",
    "version": 3
   },
   "file_extension": ".py",
   "mimetype": "text/x-python",
   "name": "python",
   "nbconvert_exporter": "python",
   "pygments_lexer": "ipython3",
   "version": "3.6.3"
  }
 },
 "nbformat": 4,
 "nbformat_minor": 2
}
